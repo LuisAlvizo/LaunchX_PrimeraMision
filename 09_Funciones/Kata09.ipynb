{
 "cells": [
  {
   "cell_type": "markdown",
   "metadata": {},
   "source": [
    "#### EJERCICIO 1: TRABAJAR CON ARGUMENTOS EN FUNCIONES"
   ]
  },
  {
   "cell_type": "code",
   "execution_count": 12,
   "metadata": {},
   "outputs": [
    {
     "name": "stdout",
     "output_type": "stream",
     "text": [
      "Informe:\n",
      "   Promedio: 2.0%\n",
      "   tanque fijo: 1%\n",
      "   Tanque externo: 2%\n",
      "   Tanque Hidrogeno: 3%\n",
      "   \n",
      "Prom 2.0\n",
      "\n",
      " Informe:\n",
      "   tanque fijo: 9%\n",
      "   Tanque externo: 10%\n",
      "   Tanque Hidrogeno: 11%\n",
      "   \n"
     ]
    }
   ],
   "source": [
    "# Función para leer 3 tanques de combustible y muestre el promedio\n",
    "def informe(tanque_fijo, tanque_ext, tanque_hydro):\n",
    "   prom = (tanque_fijo + tanque_ext + tanque_hydro) / 3\n",
    "   return f\"\"\"Informe:\n",
    "   Promedio: {prom}%\n",
    "   tanque fijo: {tanque_fijo}%\n",
    "   Tanque externo: {tanque_ext}%\n",
    "   Tanque Hidrogeno: {tanque_hydro}%\n",
    "   \"\"\"\n",
    "# Llamamos a la función que genera el reporte print(funcion(tanque1, tanque2, tanque3))\n",
    "print(informe(1,2,3))\n",
    "\n",
    "# Función promedio\n",
    "def prom(evaluar):\n",
    "    total = sum(evaluar)\n",
    "    num = len(evaluar)\n",
    "    return total / num\n",
    "\n",
    "print('Prom',prom([1,2,3]))\n",
    "\n",
    "# Actualiza la función\n",
    "def informe(tanque_fijo, tanque_ext, tanque_hydro):\n",
    "   return f\"\"\"Informe:\n",
    "   tanque fijo: {tanque_fijo}%\n",
    "   Tanque externo: {tanque_ext}%\n",
    "   Tanque Hidrogeno: {tanque_hydro}%\n",
    "   \"\"\"\n",
    "print('\\n',informe(9,10,11))\n",
    "   \n"
   ]
  },
  {
   "cell_type": "markdown",
   "metadata": {},
   "source": [
    "#### EJERCICIO 2: TRABAJO CON ARGUMENTOS DE PALABRAS CLAVE"
   ]
  },
  {
   "cell_type": "code",
   "execution_count": 13,
   "metadata": {},
   "outputs": [
    {
     "name": "stdout",
     "output_type": "stream",
     "text": [
      "\n",
      "    Mission to Moon\n",
      "    Total travel time: 65 minutes\n",
      "    Total fuel left: 500000 gallons\n",
      "    \n",
      "\n",
      "    Mission to Moon\n",
      "    Total travel time: 76 minutes\n",
      "    Total fuel left: 500000\n",
      "    \n",
      "\n",
      "    Mission to Moon\n",
      "    Total travel time: 76 minutes\n",
      "    Total fuel left: 500000\n",
      "    \n"
     ]
    }
   ],
   "source": [
    "# Función con un informe preciso de la misión. Considera hora de prelanzamiento, tiempo de vuelo, destino, tanque externo y tanque interno\n",
    "def mission_report(pre_launch_time, flight_time, destination, external_tank, main_tank):\n",
    "    return f\"\"\"\n",
    "    Mission to {destination}\n",
    "    Total travel time: {pre_launch_time + flight_time} minutes\n",
    "    Total fuel left: {external_tank + main_tank} gallons\n",
    "    \"\"\"\n",
    "\n",
    "print(mission_report(14, 51, \"Moon\", 200000, 300000))\n",
    "\n",
    "# Escribe tu nueva función de reporte considerando lo anterior\n",
    "def mission_report(destination, *minutes, **fuel_reservoirs):\n",
    "    return f\"\"\"\n",
    "    Mission to {destination}\n",
    "    Total travel time: {sum(minutes)} minutes\n",
    "    Total fuel left: {sum(fuel_reservoirs.values())}\n",
    "    \"\"\"\n",
    "\n",
    "# Nueva función\n",
    "print(mission_report(\"Moon\", 10, 15, 51, main=300000, external=200000))\n",
    "\n",
    "def mission_report(destination, *minutes, **fuel_reservoirs):\n",
    "    return f\"\"\"\n",
    "    Mission to {destination}\n",
    "    Total travel time: {sum(minutes)} minutes\n",
    "    Total fuel left: {sum(fuel_reservoirs.values())}\n",
    "    \"\"\"\n",
    "\n",
    "print(mission_report(\"Moon\", 10, 15, 51, main=300000, external=200000))"
   ]
  }
 ],
 "metadata": {
  "interpreter": {
   "hash": "669f5abd92f1a410df15b0643b9f42360e277a412fc08ae8bc7d7911cf7e8f3d"
  },
  "kernelspec": {
   "display_name": "Python 3.10.2 64-bit",
   "language": "python",
   "name": "python3"
  },
  "language_info": {
   "codemirror_mode": {
    "name": "ipython",
    "version": 3
   },
   "file_extension": ".py",
   "mimetype": "text/x-python",
   "name": "python",
   "nbconvert_exporter": "python",
   "pygments_lexer": "ipython3",
   "version": "3.10.2"
  },
  "orig_nbformat": 4
 },
 "nbformat": 4,
 "nbformat_minor": 2
}
