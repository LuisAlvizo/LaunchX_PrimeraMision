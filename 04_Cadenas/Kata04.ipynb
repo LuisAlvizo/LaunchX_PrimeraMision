{
 "cells": [
  {
   "cell_type": "markdown",
   "metadata": {},
   "source": [
    "### Ejercicio 1: Transformar Cadenas"
   ]
  },
  {
   "cell_type": "code",
   "execution_count": 2,
   "metadata": {},
   "outputs": [
    {
     "name": "stdout",
     "output_type": "stream",
     "text": [
      " \n",
      "On average, the Moon moves 4cm away from the Earth every year\n",
      "  The highest daylight temperature of the Moon is 127 C\n"
     ]
    }
   ],
   "source": [
    "text = \"\"\"Interesting facts about the Moon. The Moon is Earth's only satellite. There are several interesting facts about the Moon and how it affects life here on Earth. \n",
    "On average, the Moon moves 4cm away from the Earth every year. This yearly drift is not significant enough to cause immediate effects on Earth.  The highest daylight temperature of the Moon is 127 C.\"\"\"\n",
    "\n",
    "#Divide el texto\n",
    "text_div = text.split('.')\n",
    "\n",
    "#Palabras Clave\n",
    "key_word = ['average','temperature','distance']\n",
    "\n",
    "#Ciclo for para recorrer la cadena\n",
    "for sentencia in text_div:\n",
    "    for key_w in key_word:\n",
    "        if key_w in sentencia:\n",
    "            print(sentencia)\n",
    "            break\n",
    "\n",
    "#Ciclo para cambiar C a Celsius\n",
    "for sentencia in text_div:\n",
    "    for key_word in key_word:\n",
    "        if key_w in sentencia:\n",
    "            print(sentencia.replace(' C', ' Celsius'))\n",
    "            break"
   ]
  },
  {
   "cell_type": "markdown",
   "metadata": {},
   "source": [
    "### Ejercicio 2: Formateando Cadenas"
   ]
  },
  {
   "cell_type": "code",
   "execution_count": 17,
   "metadata": {},
   "outputs": [
    {
     "name": "stdout",
     "output_type": "stream",
     "text": [
      "Gravity Facts about Ganímedes\n",
      "---------------------------------------- \n",
      " Nombre del planeta: Marte \n",
      " Gravedad en Ganímedes : 1.6199999999999999 m/s2\n",
      "---------------------------------------- \n",
      " Nombre del planeta: Marte \n",
      " Gravedad en Ganímedes : 1.6199999999999999 m/s2\n",
      "---------------------------------------- \n",
      " Nombre del planeta: Marte \n",
      " Gravedad en Ganímedes : 1.6199999999999999 m/s2\n",
      "Datos de Gravedad sobre: Ganímedes\n",
      "----------------------------------------------------\n",
      "Nombre del planeta: Marte \n",
      "Gravedad en Ganímedes : 0.00143 m/s2\n",
      "Datos de Gravedad sobre: Ganímedes\n",
      "----------------------------------------------------\n",
      "Nombre del planeta: Marte \n",
      "Gravedad en Ganímedes : 1.4300000000000002 m/s2\n"
     ]
    }
   ],
   "source": [
    "#Datos con los que vas a trabajar\n",
    "name = \"Marte\"\n",
    "gravity = 0.00162 # in kms\n",
    "planet = \"Ganímedes\"\n",
    "\n",
    "#Creamos el titulo\n",
    "title = f'Gravity Facts about {planet}'\n",
    "print(title)\n",
    "\n",
    "#Creamos la plantilla\n",
    "datos = f\"\"\"{'-'*40} \\n Nombre del planeta: {name} \\n Gravedad en {planet} : {gravity * 1000} m/s2\"\"\"\n",
    "print(datos)\n",
    "\n",
    "#Unión de ambas cadenas\n",
    "template = f\"\"\"{title.title()} {datos}\"\"\" \n",
    "print(datos)\n",
    "\n",
    "#Nuevos datos muestra\n",
    "name = 'Marte '\n",
    "gravity  = 0.00143\n",
    "planet = 'Ganímedes'\n",
    "\n",
    "#Comprobamos la plantilla\n",
    "print(datos)\n",
    "\n",
    "new_template = \"\"\"Datos de Gravedad sobre: {planet}\n",
    "----------------------------------------------------\n",
    "Nombre del planeta: {name}\n",
    "Gravedad en {planet} : {gravity} m/s2\"\"\"\n",
    "print(new_template.format(planet=planet, name=name, gravity=gravity))\n",
    "\n",
    "#Pista: print(nueva_plantilla.format(variables))\n",
    "print(new_template.format(planet=planet, name=name, gravity=gravity*1000))"
   ]
  }
 ],
 "metadata": {
  "interpreter": {
   "hash": "17455f12815886a3eea9a9fe059ad6c1540aa8860ba2958f21778ffd6ad989e7"
  },
  "kernelspec": {
   "display_name": "Python 3.10.2 64-bit (windows store)",
   "language": "python",
   "name": "python3"
  },
  "language_info": {
   "codemirror_mode": {
    "name": "ipython",
    "version": 3
   },
   "file_extension": ".py",
   "mimetype": "text/x-python",
   "name": "python",
   "nbconvert_exporter": "python",
   "pygments_lexer": "ipython3",
   "version": "3.10.2"
  },
  "orig_nbformat": 4
 },
 "nbformat": 4,
 "nbformat_minor": 2
}
