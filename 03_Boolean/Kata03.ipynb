{
 "cells": [
  {
   "cell_type": "markdown",
   "metadata": {},
   "source": [
    "### Problema No. 1"
   ]
  },
  {
   "cell_type": "code",
   "execution_count": 1,
   "metadata": {},
   "outputs": [
    {
     "name": "stdout",
     "output_type": "stream",
     "text": [
      "EL ASTEROIDE SE ACERCA A UNA GRAN VELOCIDAD!!!\n"
     ]
    }
   ],
   "source": [
    "asteroide =  49\n",
    "if asteroide > 25:\n",
    "    print('EL ASTEROIDE SE ACERCA A UNA GRAN VELOCIDAD!!!')\n",
    "else:\n",
    "    print('Todo tranqui')"
   ]
  },
  {
   "cell_type": "markdown",
   "metadata": {},
   "source": [
    "### Problema No. 2\n"
   ]
  },
  {
   "cell_type": "code",
   "execution_count": 2,
   "metadata": {},
   "outputs": [
    {
     "name": "stdout",
     "output_type": "stream",
     "text": [
      "Todo tranqui\n"
     ]
    }
   ],
   "source": [
    "asteroide = 19\n",
    "if asteroide > 20:\n",
    "    print('Observa el rayo de luz!!!')\n",
    "elif asteroide == 20:\n",
    "    print('Observa el rayo de luz!!!')\n",
    "else:\n",
    "    print('Todo tranqui')"
   ]
  },
  {
   "cell_type": "markdown",
   "metadata": {},
   "source": [
    "### Problema No.3"
   ]
  },
  {
   "cell_type": "code",
   "execution_count": 3,
   "metadata": {},
   "outputs": [
    {
     "name": "stdout",
     "output_type": "stream",
     "text": [
      "Observa el rayo de luz!!!\n"
     ]
    }
   ],
   "source": [
    "v_asteroide = 25\n",
    "t_asteroide = 40\n",
    "if v_asteroide > 25 and t_asteroide > 25:\n",
    "    print('Se acerca un asteroide!!!')\n",
    "elif v_asteroide >= 20:\n",
    "    print('Observa el rayo de luz!!!')\n",
    "elif t_asteroide < 25:\n",
    "    print('Todo tranqui')\n",
    "else:\n",
    "    print('Todo tranqui')"
   ]
  }
 ],
 "metadata": {
  "interpreter": {
   "hash": "17455f12815886a3eea9a9fe059ad6c1540aa8860ba2958f21778ffd6ad989e7"
  },
  "kernelspec": {
   "display_name": "Python 3.10.2 64-bit (windows store)",
   "language": "python",
   "name": "python3"
  },
  "language_info": {
   "codemirror_mode": {
    "name": "ipython",
    "version": 3
   },
   "file_extension": ".py",
   "mimetype": "text/x-python",
   "name": "python",
   "nbconvert_exporter": "python",
   "pygments_lexer": "ipython3",
   "version": "3.10.2"
  },
  "orig_nbformat": 4
 },
 "nbformat": 4,
 "nbformat_minor": 2
}
